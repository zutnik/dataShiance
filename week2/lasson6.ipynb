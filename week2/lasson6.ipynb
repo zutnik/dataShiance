{
 "cells": [
  {
   "cell_type": "code",
   "execution_count": 9,
   "outputs": [],
   "source": [
    "import pandas as pd"
   ],
   "metadata": {
    "collapsed": false,
    "pycharm": {
     "name": "#%%\n"
    }
   }
  },
  {
   "cell_type": "code",
   "execution_count": 10,
   "outputs": [
    {
     "data": {
      "text/plain": "              President             Born      Age atstart of presidency  \\\n#                                                                         \n1     George Washington  Feb 22, 1732[a]  57 years, 67 daysApr 30, 1789   \n2            John Adams  Oct 30, 1735[a]  61 years, 125 daysMar 4, 1797   \n3      Thomas Jefferson  Apr 13, 1743[a]  57 years, 325 daysMar 4, 1801   \n4         James Madison  Mar 16, 1751[a]  57 years, 353 daysMar 4, 1809   \n5          James Monroe     Apr 28, 1758  58 years, 310 daysMar 4, 1817   \n6     John Quincy Adams     Jul 11, 1767  57 years, 236 daysMar 4, 1825   \n7        Andrew Jackson     Mar 15, 1767  61 years, 354 daysMar 4, 1829   \n8      Martin Van Buren      Dec 5, 1782   54 years, 89 daysMar 4, 1837   \n9   William H. Harrison      Feb 9, 1773   68 years, 23 daysMar 4, 1841   \n10           John Tyler     Mar 29, 1790    51 years, 6 daysApr 4, 1841   \n\n             Age atend of presidency Post-presidencytimespan          Died  \\\n#                                                                            \n1       65 years, 10 daysMar 4, 1797       2 years, 285 days  Dec 14, 1799   \n2      65 years, 125 daysMar 4, 1801      25 years, 122 days   Jul 4, 1826   \n3      65 years, 325 daysMar 4, 1809      17 years, 122 days   Jul 4, 1826   \n4      65 years, 353 daysMar 4, 1817      19 years, 116 days  Jun 28, 1836   \n5      66 years, 310 daysMar 4, 1825       6 years, 122 days   Jul 4, 1831   \n6      61 years, 236 daysMar 4, 1829      18 years, 356 days  Feb 23, 1848   \n7      69 years, 354 daysMar 4, 1837        8 years, 96 days   Jun 8, 1845   \n8       58 years, 89 daysMar 4, 1841      21 years, 142 days  Jul 24, 1862   \n9   68 years, 54 days Apr 4, 1841[b]                     NaN   Apr 4, 1841   \n10     54 years, 340 daysMar 4, 1845      16 years, 320 days  Jan 18, 1862   \n\n                   Age  \n#                       \n1   67 years, 295 days  \n2   90 years, 247 days  \n3    83 years, 82 days  \n4   85 years, 104 days  \n5    73 years, 67 days  \n6   80 years, 227 days  \n7    78 years, 85 days  \n8   79 years, 231 days  \n9    68 years, 54 days  \n10  71 years, 295 days  ",
      "text/html": "<div>\n<style scoped>\n    .dataframe tbody tr th:only-of-type {\n        vertical-align: middle;\n    }\n\n    .dataframe tbody tr th {\n        vertical-align: top;\n    }\n\n    .dataframe thead th {\n        text-align: right;\n    }\n</style>\n<table border=\"1\" class=\"dataframe\">\n  <thead>\n    <tr style=\"text-align: right;\">\n      <th></th>\n      <th>President</th>\n      <th>Born</th>\n      <th>Age atstart of presidency</th>\n      <th>Age atend of presidency</th>\n      <th>Post-presidencytimespan</th>\n      <th>Died</th>\n      <th>Age</th>\n    </tr>\n    <tr>\n      <th>#</th>\n      <th></th>\n      <th></th>\n      <th></th>\n      <th></th>\n      <th></th>\n      <th></th>\n      <th></th>\n    </tr>\n  </thead>\n  <tbody>\n    <tr>\n      <th>1</th>\n      <td>George Washington</td>\n      <td>Feb 22, 1732[a]</td>\n      <td>57 years, 67 daysApr 30, 1789</td>\n      <td>65 years, 10 daysMar 4, 1797</td>\n      <td>2 years, 285 days</td>\n      <td>Dec 14, 1799</td>\n      <td>67 years, 295 days</td>\n    </tr>\n    <tr>\n      <th>2</th>\n      <td>John Adams</td>\n      <td>Oct 30, 1735[a]</td>\n      <td>61 years, 125 daysMar 4, 1797</td>\n      <td>65 years, 125 daysMar 4, 1801</td>\n      <td>25 years, 122 days</td>\n      <td>Jul 4, 1826</td>\n      <td>90 years, 247 days</td>\n    </tr>\n    <tr>\n      <th>3</th>\n      <td>Thomas Jefferson</td>\n      <td>Apr 13, 1743[a]</td>\n      <td>57 years, 325 daysMar 4, 1801</td>\n      <td>65 years, 325 daysMar 4, 1809</td>\n      <td>17 years, 122 days</td>\n      <td>Jul 4, 1826</td>\n      <td>83 years, 82 days</td>\n    </tr>\n    <tr>\n      <th>4</th>\n      <td>James Madison</td>\n      <td>Mar 16, 1751[a]</td>\n      <td>57 years, 353 daysMar 4, 1809</td>\n      <td>65 years, 353 daysMar 4, 1817</td>\n      <td>19 years, 116 days</td>\n      <td>Jun 28, 1836</td>\n      <td>85 years, 104 days</td>\n    </tr>\n    <tr>\n      <th>5</th>\n      <td>James Monroe</td>\n      <td>Apr 28, 1758</td>\n      <td>58 years, 310 daysMar 4, 1817</td>\n      <td>66 years, 310 daysMar 4, 1825</td>\n      <td>6 years, 122 days</td>\n      <td>Jul 4, 1831</td>\n      <td>73 years, 67 days</td>\n    </tr>\n    <tr>\n      <th>6</th>\n      <td>John Quincy Adams</td>\n      <td>Jul 11, 1767</td>\n      <td>57 years, 236 daysMar 4, 1825</td>\n      <td>61 years, 236 daysMar 4, 1829</td>\n      <td>18 years, 356 days</td>\n      <td>Feb 23, 1848</td>\n      <td>80 years, 227 days</td>\n    </tr>\n    <tr>\n      <th>7</th>\n      <td>Andrew Jackson</td>\n      <td>Mar 15, 1767</td>\n      <td>61 years, 354 daysMar 4, 1829</td>\n      <td>69 years, 354 daysMar 4, 1837</td>\n      <td>8 years, 96 days</td>\n      <td>Jun 8, 1845</td>\n      <td>78 years, 85 days</td>\n    </tr>\n    <tr>\n      <th>8</th>\n      <td>Martin Van Buren</td>\n      <td>Dec 5, 1782</td>\n      <td>54 years, 89 daysMar 4, 1837</td>\n      <td>58 years, 89 daysMar 4, 1841</td>\n      <td>21 years, 142 days</td>\n      <td>Jul 24, 1862</td>\n      <td>79 years, 231 days</td>\n    </tr>\n    <tr>\n      <th>9</th>\n      <td>William H. Harrison</td>\n      <td>Feb 9, 1773</td>\n      <td>68 years, 23 daysMar 4, 1841</td>\n      <td>68 years, 54 days Apr 4, 1841[b]</td>\n      <td>NaN</td>\n      <td>Apr 4, 1841</td>\n      <td>68 years, 54 days</td>\n    </tr>\n    <tr>\n      <th>10</th>\n      <td>John Tyler</td>\n      <td>Mar 29, 1790</td>\n      <td>51 years, 6 daysApr 4, 1841</td>\n      <td>54 years, 340 daysMar 4, 1845</td>\n      <td>16 years, 320 days</td>\n      <td>Jan 18, 1862</td>\n      <td>71 years, 295 days</td>\n    </tr>\n  </tbody>\n</table>\n</div>"
     },
     "execution_count": 10,
     "metadata": {},
     "output_type": "execute_result"
    }
   ],
   "source": [
    "df = pd.read_csv('datasets/presidents.csv', index_col=0)\n",
    "df.head(10)"
   ],
   "metadata": {
    "collapsed": false,
    "pycharm": {
     "name": "#%%\n"
    }
   }
  },
  {
   "cell_type": "code",
   "execution_count": 12,
   "outputs": [
    {
     "data": {
      "text/plain": "           President             Born      Age atstart of presidency  \\\n#                                                                      \n1  George Washington  Feb 22, 1732[a]  57 years, 67 daysApr 30, 1789   \n2         John Adams  Oct 30, 1735[a]  61 years, 125 daysMar 4, 1797   \n3   Thomas Jefferson  Apr 13, 1743[a]  57 years, 325 daysMar 4, 1801   \n4      James Madison  Mar 16, 1751[a]  57 years, 353 daysMar 4, 1809   \n5       James Monroe     Apr 28, 1758  58 years, 310 daysMar 4, 1817   \n\n         Age atend of presidency Post-presidencytimespan          Died  \\\n#                                                                        \n1   65 years, 10 daysMar 4, 1797       2 years, 285 days  Dec 14, 1799   \n2  65 years, 125 daysMar 4, 1801      25 years, 122 days   Jul 4, 1826   \n3  65 years, 325 daysMar 4, 1809      17 years, 122 days   Jul 4, 1826   \n4  65 years, 353 daysMar 4, 1817      19 years, 116 days  Jun 28, 1836   \n5  66 years, 310 daysMar 4, 1825       6 years, 122 days   Jul 4, 1831   \n\n                  Age   First        Last  \n#                                          \n1  67 years, 295 days  George  Washington  \n2  90 years, 247 days    John       Adams  \n3   83 years, 82 days  Thomas   Jefferson  \n4  85 years, 104 days   James     Madison  \n5   73 years, 67 days   James      Monroe  ",
      "text/html": "<div>\n<style scoped>\n    .dataframe tbody tr th:only-of-type {\n        vertical-align: middle;\n    }\n\n    .dataframe tbody tr th {\n        vertical-align: top;\n    }\n\n    .dataframe thead th {\n        text-align: right;\n    }\n</style>\n<table border=\"1\" class=\"dataframe\">\n  <thead>\n    <tr style=\"text-align: right;\">\n      <th></th>\n      <th>President</th>\n      <th>Born</th>\n      <th>Age atstart of presidency</th>\n      <th>Age atend of presidency</th>\n      <th>Post-presidencytimespan</th>\n      <th>Died</th>\n      <th>Age</th>\n      <th>First</th>\n      <th>Last</th>\n    </tr>\n    <tr>\n      <th>#</th>\n      <th></th>\n      <th></th>\n      <th></th>\n      <th></th>\n      <th></th>\n      <th></th>\n      <th></th>\n      <th></th>\n      <th></th>\n    </tr>\n  </thead>\n  <tbody>\n    <tr>\n      <th>1</th>\n      <td>George Washington</td>\n      <td>Feb 22, 1732[a]</td>\n      <td>57 years, 67 daysApr 30, 1789</td>\n      <td>65 years, 10 daysMar 4, 1797</td>\n      <td>2 years, 285 days</td>\n      <td>Dec 14, 1799</td>\n      <td>67 years, 295 days</td>\n      <td>George</td>\n      <td>Washington</td>\n    </tr>\n    <tr>\n      <th>2</th>\n      <td>John Adams</td>\n      <td>Oct 30, 1735[a]</td>\n      <td>61 years, 125 daysMar 4, 1797</td>\n      <td>65 years, 125 daysMar 4, 1801</td>\n      <td>25 years, 122 days</td>\n      <td>Jul 4, 1826</td>\n      <td>90 years, 247 days</td>\n      <td>John</td>\n      <td>Adams</td>\n    </tr>\n    <tr>\n      <th>3</th>\n      <td>Thomas Jefferson</td>\n      <td>Apr 13, 1743[a]</td>\n      <td>57 years, 325 daysMar 4, 1801</td>\n      <td>65 years, 325 daysMar 4, 1809</td>\n      <td>17 years, 122 days</td>\n      <td>Jul 4, 1826</td>\n      <td>83 years, 82 days</td>\n      <td>Thomas</td>\n      <td>Jefferson</td>\n    </tr>\n    <tr>\n      <th>4</th>\n      <td>James Madison</td>\n      <td>Mar 16, 1751[a]</td>\n      <td>57 years, 353 daysMar 4, 1809</td>\n      <td>65 years, 353 daysMar 4, 1817</td>\n      <td>19 years, 116 days</td>\n      <td>Jun 28, 1836</td>\n      <td>85 years, 104 days</td>\n      <td>James</td>\n      <td>Madison</td>\n    </tr>\n    <tr>\n      <th>5</th>\n      <td>James Monroe</td>\n      <td>Apr 28, 1758</td>\n      <td>58 years, 310 daysMar 4, 1817</td>\n      <td>66 years, 310 daysMar 4, 1825</td>\n      <td>6 years, 122 days</td>\n      <td>Jul 4, 1831</td>\n      <td>73 years, 67 days</td>\n      <td>James</td>\n      <td>Monroe</td>\n    </tr>\n  </tbody>\n</table>\n</div>"
     },
     "execution_count": 12,
     "metadata": {},
     "output_type": "execute_result"
    }
   ],
   "source": [
    "def splitname(row):\n",
    "    row['First'] = row['President'].split(\" \")[0]\n",
    "    row['Last'] = row['President'].split(\" \")[-1]\n",
    "    return row\n",
    "\n",
    "\n",
    "df = df.apply(splitname, axis='columns')\n",
    "df.head()"
   ],
   "metadata": {
    "collapsed": false,
    "pycharm": {
     "name": "#%%\n"
    }
   }
  },
  {
   "cell_type": "code",
   "execution_count": 13,
   "outputs": [],
   "source": [
    "del (df['First'])\n",
    "del (df['Last'])"
   ],
   "metadata": {
    "collapsed": false,
    "pycharm": {
     "name": "#%%\n"
    }
   }
  },
  {
   "cell_type": "code",
   "execution_count": 16,
   "outputs": [
    {
     "data": {
      "text/plain": "#\n1   1732-02-22\n2   1735-10-30\n3   1743-04-13\n4   1751-03-16\n5   1758-04-28\nName: Born, dtype: datetime64[ns]"
     },
     "execution_count": 16,
     "metadata": {},
     "output_type": "execute_result"
    }
   ],
   "source": [
    "#df['Born'] = df['Born'].str.extract(\"([\\w]{3} [\\w]{1,2}, [\\w]{4})\")\n",
    "df['Born'] = pd.to_datetime(df['Born'])\n",
    "df['Born'].head()"
   ],
   "metadata": {
    "collapsed": false,
    "pycharm": {
     "name": "#%%\n"
    }
   }
  },
  {
   "cell_type": "code",
   "execution_count": null,
   "outputs": [],
   "source": [],
   "metadata": {
    "collapsed": false,
    "pycharm": {
     "name": "#%%\n"
    }
   }
  }
 ],
 "metadata": {
  "kernelspec": {
   "display_name": "Python 3",
   "language": "python",
   "name": "python3"
  },
  "language_info": {
   "codemirror_mode": {
    "name": "ipython",
    "version": 2
   },
   "file_extension": ".py",
   "mimetype": "text/x-python",
   "name": "python",
   "nbconvert_exporter": "python",
   "pygments_lexer": "ipython2",
   "version": "2.7.6"
  }
 },
 "nbformat": 4,
 "nbformat_minor": 0
}